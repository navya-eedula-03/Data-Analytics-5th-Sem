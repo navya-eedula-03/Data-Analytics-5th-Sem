{
 "cells": [
  {
   "cell_type": "code",
   "execution_count": 1,
   "metadata": {},
   "outputs": [
    {
     "name": "stdout",
     "output_type": "stream",
     "text": [
      "Shape:  (1322, 32)\n"
     ]
    }
   ],
   "source": [
    "import pandas as pd\n",
    "\n",
    "df=pd.read_csv(\"train-HR.csv\")\n",
    "df.index = df.EmployeeNumber\n",
    "df.head()\n",
    "print(\"Shape: \", df.shape)\n",
    "#df.columns"
   ]
  },
  {
   "cell_type": "code",
   "execution_count": 2,
   "metadata": {},
   "outputs": [],
   "source": [
    "predictor = df[['Age', 'Gender', 'Department', 'JobRole', 'JobLevel',\n",
    "       'JobSatisfaction', 'JobInvolvement', 'PerformanceRating', 'OverTime',\n",
    "       'EnvironmentSatisfaction', 'EducationField', 'Education',\n",
    "       'BusinessTravel', 'WorkLifeBalance', 'MaritalStatus',\n",
    "       'RelationshipSatisfaction', 'DistanceFromHome', 'StockOptionLevel',\n",
    "       'NumCompaniesWorked', 'TotalWorkingYears', 'TrainingTimesLastYear',\n",
    "       'YearsAtCompany', 'YearsInCurrentRole', 'YearsSinceLastPromotion',\n",
    "       'YearsWithCurrManager', 'DailyRate', 'HourlyRate', 'MonthlyIncome',\n",
    "       'MonthlyRate', 'PercentSalaryHike']]\n",
    "\n",
    "target = df['Attrition']\n"
   ]
  },
  {
   "cell_type": "code",
   "execution_count": 14,
   "metadata": {},
   "outputs": [
    {
     "name": "stdout",
     "output_type": "stream",
     "text": [
      "Shape of training data:  (1057, 30)\n",
      "Shape of test data:  (1057,)\n"
     ]
    }
   ],
   "source": [
    "from sklearn.model_selection import train_test_split\n",
    "train_x, test_x, train_y, test_y = train_test_split(predictor, target,test_size=0.2,random_state=0)\n",
    "print(\"Shape of training data: \",train_x.shape)\n",
    "print(\"Shape of test data: \",train_y.shape)"
   ]
  },
  {
   "cell_type": "code",
   "execution_count": 4,
   "metadata": {},
   "outputs": [],
   "source": [
    "import numpy as np\n",
    "from sklearn.pipeline import Pipeline\n",
    "from sklearn.linear_model import LogisticRegression\n",
    "from sklearn.model_selection import GridSearchCV"
   ]
  },
  {
   "cell_type": "code",
   "execution_count": 5,
   "metadata": {},
   "outputs": [],
   "source": [
    "logModel = LogisticRegression()"
   ]
  },
  {
   "cell_type": "code",
   "execution_count": 6,
   "metadata": {},
   "outputs": [],
   "source": [
    "param_grid = [    \n",
    "    {'penalty' : ['l1', 'l2', 'elasticnet', 'none'],\n",
    "    'C' : np.logspace(-4, 4, 20),\n",
    "    'solver' : ['lbfgs','newton-cg','liblinear','sag','saga'],\n",
    "    'max_iter' : [100, 1000,2500, 5000]\n",
    "    }\n",
    "]"
   ]
  },
  {
   "cell_type": "code",
   "execution_count": 7,
   "metadata": {},
   "outputs": [],
   "source": [
    "clf_trial = GridSearchCV(logModel, param_grid = param_grid, cv = 3, verbose=True, n_jobs=-1)"
   ]
  },
  {
   "cell_type": "code",
   "execution_count": 8,
   "metadata": {},
   "outputs": [
    {
     "name": "stdout",
     "output_type": "stream",
     "text": [
      "Fitting 3 folds for each of 1600 candidates, totalling 4800 fits\n"
     ]
    },
    {
     "name": "stderr",
     "output_type": "stream",
     "text": [
      "[Parallel(n_jobs=-1)]: Using backend LokyBackend with 8 concurrent workers.\n",
      "[Parallel(n_jobs=-1)]: Done  34 tasks      | elapsed:    2.8s\n",
      "[Parallel(n_jobs=-1)]: Done 356 tasks      | elapsed:   14.6s\n",
      "[Parallel(n_jobs=-1)]: Done 736 tasks      | elapsed:   39.2s\n",
      "[Parallel(n_jobs=-1)]: Done 1336 tasks      | elapsed:  1.2min\n",
      "[Parallel(n_jobs=-1)]: Done 1930 tasks      | elapsed:  2.1min\n",
      "[Parallel(n_jobs=-1)]: Done 2656 tasks      | elapsed:  3.2min\n",
      "[Parallel(n_jobs=-1)]: Done 3586 tasks      | elapsed:  4.5min\n",
      "[Parallel(n_jobs=-1)]: Done 4575 tasks      | elapsed:  6.0min\n",
      "[Parallel(n_jobs=-1)]: Done 4785 out of 4800 | elapsed:  6.3min remaining:    1.1s\n",
      "[Parallel(n_jobs=-1)]: Done 4800 out of 4800 | elapsed:  6.3min finished\n"
     ]
    }
   ],
   "source": [
    "best_clf_trial = clf_trial.fit(train_x,train_y)"
   ]
  },
  {
   "cell_type": "code",
   "execution_count": 12,
   "metadata": {},
   "outputs": [
    {
     "name": "stdout",
     "output_type": "stream",
     "text": [
      "Best model paramaters:  LogisticRegression(C=10000.0, solver='liblinear')\n",
      "Accuracy - : 0.885\n"
     ]
    }
   ],
   "source": [
    "print(\"Best model paramaters: \",best_clf_trial.best_estimator_)\n",
    "print (f'Accuracy - : {best_clf_trial.score(train_x,train_y):.3f}')"
   ]
  },
  {
   "cell_type": "code",
   "execution_count": 18,
   "metadata": {},
   "outputs": [
    {
     "name": "stdout",
     "output_type": "stream",
     "text": [
      "RMSE on train data: \n",
      "0.07190160832544938\n",
      "RMSE on test data: \n",
      "0.09056603773584905\n"
     ]
    }
   ],
   "source": [
    "from sklearn.preprocessing import StandardScaler, MinMaxScaler\n",
    "\n",
    "clf = Pipeline(steps=[('scalar', StandardScaler()),\n",
    "                      ('classifier', LogisticRegression(C=10000.0, solver='liblinear'))])\n",
    "clf.fit(train_x,train_y)\n",
    "predictions = clf.predict(train_x)\n",
    "predict_test  = clf.predict(test_x)\n",
    "\n",
    "print('RMSE on train data: ')\n",
    "print(np.sqrt(np.mean(predictions- train_y)**2))\n",
    "print('RMSE on test data: ')\n",
    "print(np.sqrt(np.mean(predict_test- test_y)**2))\n"
   ]
  },
  {
   "cell_type": "code",
   "execution_count": 19,
   "metadata": {},
   "outputs": [
    {
     "name": "stdout",
     "output_type": "stream",
     "text": [
      "[[-2.33338009e-02  2.36876605e-01  5.66936545e-01 -5.31121882e-02\n",
      "   3.28839029e-02 -3.47904943e-01 -5.31524076e-01  3.19294233e-01\n",
      "   1.55198432e+00 -2.85386155e-01  6.20694546e-02  7.86167004e-02\n",
      "   8.30061042e-01 -3.46187951e-01  5.10862616e-01 -2.01588407e-01\n",
      "   3.63257537e-02 -1.98566504e-01  1.34625580e-01 -7.24157346e-02\n",
      "  -1.49476204e-01  7.10253735e-02 -1.09536259e-01  1.22237078e-01\n",
      "  -8.64593370e-02 -3.50542933e-04  1.23521523e-03 -1.18033986e-04\n",
      "   4.01417249e-06 -2.00203448e-02]]\n",
      "[[-0.26908759  0.15084562  0.48145647 -0.24631719 -0.1337655  -0.41905736\n",
      "  -0.40644009  0.15895013  0.81285885 -0.34838534  0.0759424   0.10881625\n",
      "   0.44991317 -0.27690452  0.39844365 -0.24806362  0.31716155 -0.2473528\n",
      "   0.36088065 -0.55912671 -0.19623615  0.49392128 -0.50172964  0.5140954\n",
      "  -0.37798713 -0.15651698  0.01514473 -0.49879237  0.01495532 -0.15263319]]\n"
     ]
    }
   ],
   "source": [
    "# Finding most influencing variables:\n",
    "\n",
    "m = LogisticRegression(C=10000.0, solver='liblinear')\n",
    "m.fit(train_x, train_y)\n",
    "\n",
    "print(m.coef_)\n",
    "# print(np.std(train_x, 0)*m.coef_)\n",
    "\n",
    "m.fit(train_x / np.std(train_x, 0), train_y)\n",
    "print(m.coef_)"
   ]
  },
  {
   "cell_type": "code",
   "execution_count": 20,
   "metadata": {},
   "outputs": [
    {
     "data": {
      "text/plain": [
       "array([0, 0, 0, ..., 0, 1, 0], dtype=int64)"
      ]
     },
     "execution_count": 20,
     "metadata": {},
     "output_type": "execute_result"
    }
   ],
   "source": [
    "predictions"
   ]
  },
  {
   "cell_type": "code",
   "execution_count": 21,
   "metadata": {},
   "outputs": [
    {
     "data": {
      "text/plain": [
       "array([[221,  26],\n",
       "       [  2,  16]], dtype=int64)"
      ]
     },
     "execution_count": 21,
     "metadata": {},
     "output_type": "execute_result"
    }
   ],
   "source": [
    "# Confusion Matrix\n",
    "from sklearn.metrics import confusion_matrix\n",
    "cf_matrix = confusion_matrix(predict_test, test_y)\n",
    "cf_matrix"
   ]
  },
  {
   "cell_type": "code",
   "execution_count": 22,
   "metadata": {},
   "outputs": [
    {
     "data": {
      "text/plain": [
       "<matplotlib.axes._subplots.AxesSubplot at 0x21184546a60>"
      ]
     },
     "execution_count": 22,
     "metadata": {},
     "output_type": "execute_result"
    },
    {
     "data": {
      "image/png": "[encoded data removed]",
      "text/plain": [
       "<Figure size 432x288 with 2 Axes>"
      ]
     },
     "metadata": {},
     "output_type": "display_data"
    }
   ],
   "source": [
    "import seaborn as sns\n",
    "sns.set()\n",
    "\n",
    "group_names = ['True Negative','False Positive','False Negative','True Positive']\n",
    "group_counts = ['{0:0.0f}'.format(value) for value in\n",
    "                cf_matrix.flatten()]\n",
    "group_percentages = ['{0:.2%}'.format(value) for value in\n",
    "                     cf_matrix.flatten()/np.sum(cf_matrix)]\n",
    "labels = [f\"{v1}\\n{v2}\\n{v3}\" for v1, v2, v3 in\n",
    "          zip(group_names,group_counts,group_percentages)]\n",
    "labels = np.asarray(labels).reshape(2,2)\n",
    "sns.heatmap(cf_matrix, annot=labels, fmt='', cmap='Blues')"
   ]
  },
  {
   "cell_type": "code",
   "execution_count": 23,
   "metadata": {},
   "outputs": [
    {
     "name": "stdout",
     "output_type": "stream",
     "text": [
      "Accuracy:  0.8943396226415095\n",
      "Recall:  0.9910313901345291\n",
      "Precision:  0.8947368421052632\n",
      "F1 score:  0.9404255319148936\n"
     ]
    }
   ],
   "source": [
    "# For the training model\n",
    "\n",
    "# Accuracy\n",
    "from sklearn.metrics import accuracy_score\n",
    "print(\"Accuracy: \",accuracy_score(test_y, predict_test))\n",
    "\n",
    "# Recall\n",
    "from sklearn.metrics import recall_score\n",
    "print(\"Recall: \",recall_score(test_y, predict_test, average=None)[0])\n",
    "\n",
    "# Precision\n",
    "from sklearn.metrics import precision_score\n",
    "print(\"Precision: \",precision_score(test_y, predict_test, average=None)[0])\n",
    "\n",
    "#F1-score\n",
    "from sklearn.metrics import f1_score\n",
    "print(\"F1 score: \",f1_score(test_y, predict_test, average=None)[0])"
   ]
  },
  {
   "cell_type": "markdown",
   "metadata": {},
   "source": [
    "### Implementing for test data and verifying values:"
   ]
  },
  {
   "cell_type": "code",
   "execution_count": null,
   "metadata": {},
   "outputs": [],
   "source": [
    "test_df=pd.read_csv(\"test-HR.csv\")\n",
    "test_df.index = test_df.EmployeeNumber\n",
    "print(\"Shape\",test_df.shape)\n",
    "test_df.head()\n",
    "\n",
    "test_predictor = test_df.drop(['EmployeeNumber','Attrition'],1)\n",
    "test_target = test_df.Attrition\n",
    "test_predictor"
   ]
  },
  {
   "cell_type": "code",
   "execution_count": null,
   "metadata": {},
   "outputs": [],
   "source": [
    "y_predict = clf.predict(test_predictor)"
   ]
  },
  {
   "cell_type": "code",
   "execution_count": null,
   "metadata": {},
   "outputs": [],
   "source": [
    "print('RMSE on train data: ')\n",
    "print(np.sqrt(np.mean(y_predict- test_target)**2))\n"
   ]
  },
  {
   "cell_type": "code",
   "execution_count": null,
   "metadata": {},
   "outputs": [],
   "source": [
    "# Confusion Matrix\n",
    "from sklearn.metrics import confusion_matrix\n",
    "test_matrix = confusion_matrix(test_target, y_predict)\n",
    "test_matrix"
   ]
  },
  {
   "cell_type": "code",
   "execution_count": null,
   "metadata": {},
   "outputs": [],
   "source": [
    "group_names = ['True Negative','False Positive','False Negative','True Positive']\n",
    "group_counts = ['{0:0.0f}'.format(value) for value in\n",
    "                cf_matrix.flatten()]\n",
    "group_percentages = ['{0:.2%}'.format(value) for value in\n",
    "                     test_matrix.flatten()/np.sum(test_matrix)]\n",
    "labels = [f\"{v1}\\n{v2}\\n{v3}\" for v1, v2, v3 in\n",
    "          zip(group_names,group_counts,group_percentages)]\n",
    "labels = np.asarray(labels).reshape(2,2)\n",
    "sns.heatmap(cf_matrix, annot=labels, fmt='', cmap='Blues')"
   ]
  },
  {
   "cell_type": "code",
   "execution_count": null,
   "metadata": {
    "scrolled": true
   },
   "outputs": [],
   "source": [
    "# Accuracy\n",
    "from sklearn.metrics import accuracy_score\n",
    "print(\"Accuracy: \",accuracy_score(test_target, y_predict))\n",
    "\n",
    "# Recall\n",
    "from sklearn.metrics import recall_score\n",
    "print(\"Recall: \",recall_score(test_target, y_predict, average=None)[0])\n",
    "\n",
    "# Precision\n",
    "from sklearn.metrics import precision_score\n",
    "print(\"Precision: \",precision_score(test_target, y_predict, average=None)[0])\n",
    "\n",
    "#F1-score\n",
    "from sklearn.metrics import f1_score\n",
    "print(\"F1 score: \",f1_score(test_target, y_predict, average=None)[0])"
   ]
  },
  {
   "cell_type": "markdown",
   "metadata": {},
   "source": [
    "### Find importance of features:"
   ]
  },
  {
   "cell_type": "code",
   "execution_count": 26,
   "metadata": {},
   "outputs": [],
   "source": [
    "from sklearn.preprocessing import StandardScaler\n",
    "from sklearn.model_selection import train_test_split\n",
    "\n",
    "X = df.drop('Attrition', axis=1)\n",
    "y = df['Attrition']\n",
    "X_train, X_test, y_train, y_test = train_test_split(X, y, test_size=0.25, random_state=42)\n",
    "\n",
    "ss = StandardScaler()\n",
    "X_train_scaled = ss.fit_transform(X_train)\n",
    "X_test_scaled = ss.transform(X_test)"
   ]
  },
  {
   "cell_type": "code",
   "execution_count": 27,
   "metadata": {},
   "outputs": [],
   "source": [
    "from sklearn.linear_model import LogisticRegression\n",
    "\n",
    "model = LogisticRegression()\n",
    "model.fit(X_train_scaled, y_train)\n",
    "importances = pd.DataFrame(data={\n",
    "    'Attribute': X_train.columns,\n",
    "    'Importance': model.coef_[0]\n",
    "})\n",
    "importances = importances.sort_values(by='Importance', ascending=False)"
   ]
  },
  {
   "cell_type": "code",
   "execution_count": 31,
   "metadata": {},
   "outputs": [
    {
     "data": {
      "image/png": "[encoded data removed]",
      "text/plain": [
       "<Figure size 1440x720 with 1 Axes>"
      ]
     },
     "metadata": {
      "needs_background": "light"
     },
     "output_type": "display_data"
    }
   ],
   "source": [
    "import matplotlib.pyplot as plt\n",
    "plt.figure(figsize=(20,10))\n",
    "plt.bar(x=importances['Attribute'], height=importances['Importance'], color='#F38BA0')\n",
    "plt.title('Feature importances obtained from coefficients', size=20)\n",
    "plt.xticks(rotation='vertical')\n",
    "plt.show()"
   ]
  },
  {
   "cell_type": "code",
   "execution_count": null,
   "metadata": {},
   "outputs": [],
   "source": []
  }
 ],
 "metadata": {
  "kernelspec": {
   "display_name": "Python 3",
   "language": "python",
   "name": "python3"
  },
  "language_info": {
   "codemirror_mode": {
    "name": "ipython",
    "version": 3
   },
   "file_extension": ".py",
   "mimetype": "text/x-python",
   "name": "python",
   "nbconvert_exporter": "python",
   "pygments_lexer": "ipython3",
   "version": "3.8.3"
  }
 },
 "nbformat": 4,
 "nbformat_minor": 4
}
